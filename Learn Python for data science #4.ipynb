{
 "cells": [
  {
   "cell_type": "code",
   "execution_count": 2,
   "metadata": {},
   "outputs": [
    {
     "name": "stdout",
     "output_type": "stream",
     "text": [
      "not yet\n",
      "done\n"
     ]
    },
    {
     "data": {
      "image/png": "[encoded data removed]",
      "text/plain": [
       "<matplotlib.figure.Figure at 0x64995c0>"
      ]
     },
     "metadata": {},
     "output_type": "display_data"
    }
   ],
   "source": [
    "import numpy as np\n",
    "import pandas as pd\n",
    "from sklearn.svm import SVR\n",
    "import matplotlib.pyplot as plt\n",
    "\n",
    "dates = None\n",
    "prices = None\n",
    "csvStockData = None\n",
    "\n",
    "\n",
    "def get_stock_data(quote):\n",
    "    url = 'http://www.google.com/finance/historical?q=NASDAQ%3A'+quote+'&output=csv'\n",
    "    csvStockData = pd.read_csv(url)\n",
    "    dates = pd.to_datetime(csvStockData['Date'])\n",
    "    prices = csvStockData['Open']\n",
    "    return dates, prices\n",
    "    \n",
    "def plot_figure(dates, prices):\n",
    "    plt.scatter(list(dates), prices, s=10, c='black')\n",
    "    plt.show()\n",
    "\n",
    "stock_quote = 'AAPL' #input('Enter a stock quote from NASDAQ (e.j: AAPL, FB, GOOGL): ').upper() \n",
    "dates, prices = get_stock_data(stock_quote)\n",
    "\n",
    "X = dates.apply(lambda x: x.toordinal()).values.reshape(-1,1)\n",
    "Y = prices\n",
    "#print(X)\n",
    "#svr_lin = SVR(kernel='linear', C=1000)\n",
    "svr_rbf = SVR(kernel= 'rbf', C= 1e3, gamma= 0.1)\n",
    "print('not yet')\n",
    "#svr_lin.fit(X, Y)\n",
    "svr_rbf.fit(X, Y)\n",
    "print('done')\n",
    "#plt.plot(X,svr_lin.predict(X), color= 'green', label= 'Linear model')\n",
    "plt.plot(dates.values.reshape(-1,1), svr_rbf.predict(X), color= 'red', label= 'RBF model')\n",
    "plt.scatter(dates.values.reshape(-1,1), Y, s=10, c='black')\n",
    "plt.xlabel('Date')\n",
    "plt.ylabel('Price')\n",
    "plt.title('Support Vector Regression')\n",
    "plt.legend()\n",
    "plt.show()\n",
    "\n",
    "#plot_figure(dates, prices)\n",
    "#print(prices)"
   ]
  },
  {
   "cell_type": "code",
   "execution_count": null,
   "metadata": {},
   "outputs": [],
   "source": [
    "import pandas_datareader.data as web\n",
    "\n",
    "gs = web.DataReader(\"GS\", data_source='yahoo', start='2006-01-01', end='2010-01-01')\n",
    "gs.head().round(2)"
   ]
  },
  {
   "cell_type": "code",
   "execution_count": null,
   "metadata": {
    "collapsed": true
   },
   "outputs": [],
   "source": [
    "df = pd.read_csv('test.csv')\n",
    "df['date'] = pd.to_datetime(df['date'])    \n",
    "df['date_delta'] = (df['date'] - df['date'].min())  / np.timedelta64(1,'D')\n",
    "city_data = df[df['city'] == 'London']\n",
    "result = sm.ols(formula = 'sales ~ date_delta', data = city_data).fit()"
   ]
  },
  {
   "cell_type": "code",
   "execution_count": null,
   "metadata": {},
   "outputs": [],
   "source": [
    "# 1. install dependecies\n",
    "import csv\n",
    "import numpy as np\n",
    "from sklearn.svm import SVR\n",
    "import matplotlib.pyplot as plt\n",
    "# 2. collect dataset from finance.gooogle.com https://finance.google.com/finance/historical?q=NASDAQ:AAPL\n",
    "\n",
    "# 3. write script\n",
    "\n",
    "dates = []\n",
    "prices = []\n",
    "\n",
    "def get_data(filename):\n",
    "    with open(filename, 'r') as csvfile:\n",
    "        csvFileReader = csv.reader(csvfile)\n",
    "        next(csvFileReader)\n",
    "        for row in csvFileReader:\n",
    "            dates.append(int(row[0].split('-')[0]))\n",
    "            prices.append(float(row[1]))\n",
    "    return\n",
    "print(np.array([dates]).shape)\n",
    "\n",
    "def predict_prices(dates, prices, x):\n",
    "    dates = np.reshape(dates, (len(dates),1))\n",
    "    \n",
    "    svr_lin = SVR(kernel='linear', C=1e3)\n",
    "    \n",
    "    svr_lin.fit(dates, prices)\n",
    "    \n",
    "    plt.scatter(dates, prices, color='black', label='Data points')\n",
    "    plt.plot(dates, svr_lin.predict(dates), color='red', label='Linear model')\n",
    "    plt.xlabel('Date')\n",
    "    plt.ylabel('Price')\n",
    "    plt.title('Support Vector Regression')\n",
    "    plt.legend()\n",
    "    plt.show()\n",
    "    \n",
    "    return svr_lin.predict(x)[0]\n",
    "\n",
    "get_data('aapl.csv')\n",
    "predicted = predict_prices(dates, prices, 29)\n",
    "print(predicted)\n",
    "\n",
    "# 4. analyze graph"
   ]
  },
  {
   "cell_type": "code",
   "execution_count": null,
   "metadata": {},
   "outputs": [],
   "source": [
    "import csv\n",
    "import numpy as np\n",
    "from sklearn.svm import SVR\n",
    "import matplotlib.pyplot as plt\n",
    "\n",
    "\n",
    "#plt.switch_backend('newbackend')  \n",
    "\n",
    "\n",
    "\n",
    "dates = []\n",
    "prices = []\n",
    "\n",
    "def get_data(filename):\n",
    "    with open(filename, 'r') as csvfile:\n",
    "        csvFileReader = csv.reader(csvfile)\n",
    "        next(csvFileReader)\t# skipping column names\n",
    "        for row in csvFileReader:\n",
    "            dates.append(int(row[0].split('-')[0]))\n",
    "            prices.append(float(row[1]))\n",
    "    return\n",
    "\n",
    "def predict_price(dates, prices, x):\n",
    "    dates = np.reshape(dates,(len(dates), 1)) # converting to matrix of n X 1\n",
    "\n",
    "    svr_lin = SVR(kernel= 'linear', C= 1e3)\n",
    "    #svr_poly = SVR(kernel= 'poly', C= 1e3, degree= 2)\n",
    "    #svr_rbf = SVR(kernel= 'rbf', C= 1e3, gamma= 0.1) # defining the support vector regression models\n",
    "    #svr_rbf.fit(dates, prices) # fitting the data points in the models\n",
    "    svr_lin.fit(dates, prices)\n",
    "    #svr_poly.fit(dates, prices)\n",
    "\n",
    "    plt.scatter(dates, prices, color= 'black', label= 'Data') # plotting the initial datapoints \n",
    "    #plt.plot(dates, svr_rbf.predict(dates), color= 'red', label= 'RBF model') # plotting the line made by the RBF kernel\n",
    "    plt.plot(dates,svr_lin.predict(dates), color= 'green', label= 'Linear model') # plotting the line made by linear kernel\n",
    "    #plt.plot(dates,svr_poly.predict(dates), color= 'blue', label= 'Polynomial model') # plotting the line made by polynomial kernel\n",
    "    plt.xlabel('Date')\n",
    "    plt.ylabel('Price')\n",
    "    plt.title('Support Vector Regression')\n",
    "    plt.legend()\n",
    "    plt.show()\n",
    "\n",
    "    return svr_lin.predict(x)[0]#, svr_rbf.predict(x)[0], svr_poly.predict(x)[0]\n",
    "\n",
    "get_data('aapl.csv') # calling get_data method by passing the csv file to it\n",
    "#print \"Dates- \", dates\n",
    "#print \"Prices- \", prices\n",
    "\n",
    "predicted_price = predict_price(dates, prices, 29)\n",
    "print(predicted_price)"
   ]
  }
 ],
 "metadata": {
  "kernelspec": {
   "display_name": "Python 3",
   "language": "python",
   "name": "python3"
  },
  "language_info": {
   "codemirror_mode": {
    "name": "ipython",
    "version": 3
   },
   "file_extension": ".py",
   "mimetype": "text/x-python",
   "name": "python",
   "nbconvert_exporter": "python",
   "pygments_lexer": "ipython3",
   "version": "3.5.4"
  }
 },
 "nbformat": 4,
 "nbformat_minor": 2
}
