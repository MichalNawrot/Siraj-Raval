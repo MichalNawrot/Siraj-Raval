{
 "cells": [
  {
   "cell_type": "code",
   "execution_count": 176,
   "metadata": {},
   "outputs": [
    {
     "name": "stdout",
     "output_type": "stream",
     "text": [
      "[[181  80  44]\n",
      " [177  70  43]\n",
      " [160  60  38]\n",
      " [154  54  37]\n",
      " [166  65  40]\n",
      " [190  90  47]\n",
      " [175  64  39]\n",
      " [177  70  40]\n",
      " [159  55  37]\n",
      " [171  75  42]\n",
      " [181  85  43]] [['male' 'male' 'female' 'female' 'male' 'male' 'female' 'female' 'female'\n",
      "  'male' 'male']]\n"
     ]
    },
    {
     "data": {
      "text/plain": [
       "array([['181', '80', '44', 'male'],\n",
       "       ['177', '70', '43', 'male'],\n",
       "       ['160', '60', '38', 'female'],\n",
       "       ['154', '54', '37', 'female'],\n",
       "       ['166', '65', '40', 'male'],\n",
       "       ['190', '90', '47', 'male'],\n",
       "       ['175', '64', '39', 'female'],\n",
       "       ['177', '70', '40', 'female'],\n",
       "       ['159', '55', '37', 'female'],\n",
       "       ['171', '75', '42', 'male'],\n",
       "       ['181', '85', '43', 'male']], \n",
       "      dtype='<U11')"
      ]
     },
     "execution_count": 176,
     "metadata": {},
     "output_type": "execute_result"
    }
   ],
   "source": [
    "from sklearn import tree\n",
    "from sklearn.tree import export_graphviz\n",
    "\n",
    "clf = tree.DecisionTreeClassifier()\n",
    "\n",
    "# CHALLENGE - create 3 more classifiers...\n",
    "# 1\n",
    "# 2\n",
    "# 3\n",
    "\n",
    "# [height, weight, shoe_size]\n",
    "X = [[181, 80, 44], [177, 70, 43], [160, 60, 38], [154, 54, 37], [166, 65, 40],\n",
    "     [190, 90, 47], [175, 64, 39], [177, 70, 40], [159, 55, 37], [171, 75, 42], [181, 85, 43]]\n",
    "\n",
    "Y = [['male', 'male', 'female', 'female', 'male', 'male', 'female', 'female',\n",
    "     'female', 'male', 'male']]\n",
    "\n",
    "#data = pd.merge(X, Y)\n",
    "\n",
    "# CHALLENGE - ...and train them on our data\n",
    "#clf = clf.fit(X, Y)\n",
    "\n",
    "#prediction = clf.predict([[190, 70, 43]])\n",
    "\n",
    "# CHALLENGE compare their reusults and print the best one!\n",
    "\n",
    "#print(prediction)\n",
    "print(np.array(X),np.array(Y))\n",
    "np.concatenate((np.array(X),np.array(Y).T),axis=1)"
   ]
  },
  {
   "cell_type": "code",
   "execution_count": 51,
   "metadata": {},
   "outputs": [
    {
     "name": "stderr",
     "output_type": "stream",
     "text": [
      "C:\\Users\\PNaF\\Anaconda3\\lib\\site-packages\\sklearn\\linear_model\\stochastic_gradient.py:84: FutureWarning: max_iter and tol parameters have been added in <class 'sklearn.linear_model.perceptron.Perceptron'> in 0.19. If both are left unset, they default to max_iter=5 and tol=None. If tol is not None, max_iter defaults to max_iter=1000. From 0.21, default max_iter will be 1000, and default tol will be 1e-3.\n",
      "  \"and default tol will be 1e-3.\" % type(self), FutureWarning)\n"
     ]
    },
    {
     "name": "stdout",
     "output_type": "stream",
     "text": [
      "        TreeScore  GaussianNBScore  KNeighborsScore           SVC  \\\n",
      "count  100.000000       100.000000     1.000000e+02  1.000000e+02   \n",
      "mean     0.716330         0.651376     7.201835e-01  6.055046e-01   \n",
      "std      0.011325         0.000000     4.463264e-16  4.463264e-16   \n",
      "min      0.692661         0.651376     7.201835e-01  6.055046e-01   \n",
      "25%      0.711009         0.651376     7.201835e-01  6.055046e-01   \n",
      "50%      0.715596         0.651376     7.201835e-01  6.055046e-01   \n",
      "75%      0.724771         0.651376     7.201835e-01  6.055046e-01   \n",
      "max      0.738532         0.651376     7.201835e-01  6.055046e-01   \n",
      "\n",
      "         Perceptron  \n",
      "count  1.000000e+02  \n",
      "mean   4.770642e-01  \n",
      "std    1.673724e-16  \n",
      "min    4.770642e-01  \n",
      "25%    4.770642e-01  \n",
      "50%    4.770642e-01  \n",
      "75%    4.770642e-01  \n",
      "max    4.770642e-01  \n",
      "Best gender classifier is KNeighborsScore\n"
     ]
    }
   ],
   "source": [
    "from sklearn.tree import DecisionTreeClassifier\n",
    "from sklearn.naive_bayes import GaussianNB\n",
    "from sklearn.neighbors import KNeighborsClassifier\n",
    "from sklearn.svm import SVC\n",
    "from sklearn.linear_model import Perceptron\n",
    "\n",
    "from sklearn.metrics import accuracy_score\n",
    "\n",
    "from sklearn.model_selection import train_test_split\n",
    "import pandas as pd\n",
    "import numpy as np\n",
    "\n",
    "# Original data from Siraj Raval:\n",
    "#X = [[181, 80, 44], [177, 70, 43], [160, 60, 38], [154, 54, 37], [166, 65, 40], [190, 90, 47], [175, 64, 39], [177, 70, 40], [159, 55, 37], [171, 75, 42], [181, 85, 43]]\n",
    "#Y = ['male', 'male', 'female', 'female', 'male', 'male', 'female', 'female', 'female', 'male', 'male']\n",
    "\n",
    "accList = []\n",
    "\n",
    "# load data from Howell1.csv (https://github.com/rmcelreath/rethinking/tree/master/data)\n",
    "data = pd.read_csv('Howell1.csv', sep=';')\n",
    "\n",
    "# devide data to train and test in 60/40 proportion\n",
    "X = data.drop('male', axis=1)\n",
    "y = data.loc[:,'male']\n",
    "\n",
    "# loop for comparison prediction in table accList\n",
    "for i in range(100):\n",
    "    X_train, X_test, y_train, y_test = train_test_split(X, y, test_size=0.40, random_state=42)\n",
    "    # define classifieres, train and score\n",
    "    clf1 = DecisionTreeClassifier()\n",
    "    clf1 = clf1.fit(X_train,y_train)\n",
    "    acc1 = clf1.score(X_test, y_test) \n",
    "\n",
    "    clf2 = GaussianNB()\n",
    "    clf2 = clf2.fit(X_train,y_train)\n",
    "    acc2 = clf2.score(X_test, y_test) \n",
    "\n",
    "    clf3 = KNeighborsClassifier()\n",
    "    clf3 = clf3.fit(X_train,y_train)\n",
    "    acc3 = clf3.score(X_test, y_test) \n",
    "    \n",
    "    clf4 = SVC()\n",
    "    clf4 = clf4.fit(X_train,y_train)\n",
    "    acc4 = clf4.score(X_test, y_test) \n",
    "    \n",
    "    clf5 = Perceptron()\n",
    "    clf5 = clf5.fit(X_train,y_train)\n",
    "    acc5 = clf5.score(X_test, y_test) \n",
    "\n",
    "    # make predictions for given example of height 190 cm, weight 70 kg, and age 43 years\n",
    "    prediction1 = clf1.predict([[190,70,43]])#[0]\n",
    "    prediction2 = clf2.predict([[190,70,43]])#[0]\n",
    "    prediction3 = clf3.predict([[190,70,43]])#[0]\n",
    "    prediction4 = clf4.predict([[190,70,43]])#[0]\n",
    "    prediction5 = clf5.predict([[190,70,43]])#[0]\n",
    "    \n",
    "    # compere results on test data\n",
    "    accList += [[acc1,acc2,acc3,acc4,acc5,prediction1,prediction2,prediction3,prediction4,prediction5]]\n",
    "\n",
    "#print(pd.DataFrame(accList, columns=['TreeScore','GaussianNBScore','KNeighborsScore','prediction1','prediction2','prediction3']).head())\n",
    "\n",
    "# final comparison of scores of three classifiers\n",
    "print(pd.DataFrame(accList,columns=['TreeScore','GaussianNBScore','KNeighborsScore','SVC','Perceptron','prediction1','prediction2','prediction3','prediction4','prediction5']).describe())\n",
    "\n",
    "# The best classifier from 1-5\n",
    "accMean1 = pd.DataFrame(accList).mean()[0]\n",
    "accMean2 = pd.DataFrame(accList).mean()[1]\n",
    "accMean3 = pd.DataFrame(accList).mean()[2]\n",
    "accMean4 = pd.DataFrame(accList).mean()[3]\n",
    "accMean5 = pd.DataFrame(accList).mean()[4]\n",
    "\n",
    "index = np.argmax([accMean1, accMean2, accMean3, accMean4, accMean5])\n",
    "classifiers = {0: 'TreeScore', 1: 'GaussianNBScore', 2: 'KNeighborsScore', 3: 'SVC', 4: 'Perceptron'}\n",
    "print('Best gender classifier is {}'.format(classifiers[index]))"
   ]
  },
  {
   "cell_type": "code",
   "execution_count": 11,
   "metadata": {},
   "outputs": [],
   "source": [
    "from sklearn import tree\n",
    "import pandas as pd\n",
    "import numpy as np\n",
    "\n",
    "data2 = pd.read_csv('SexAgeHW.csv', sep=';')\n",
    "data2.head()\n",
    "\n",
    "X2 = data2.drop('sex', axis=1)\n",
    "Y2 = data2.loc[:,'sex']"
   ]
  },
  {
   "cell_type": "code",
   "execution_count": 18,
   "metadata": {},
   "outputs": [
    {
     "data": {
      "image/png": "[encoded data removed]",
      "text/plain": [
       "<matplotlib.figure.Figure at 0xa809f28>"
      ]
     },
     "metadata": {},
     "output_type": "display_data"
    },
    {
     "data": {
      "text/html": [
       "<div>\n",
       "<style>\n",
       "    .dataframe thead tr:only-child th {\n",
       "        text-align: right;\n",
       "    }\n",
       "\n",
       "    .dataframe thead th {\n",
       "        text-align: left;\n",
       "    }\n",
       "\n",
       "    .dataframe tbody tr th {\n",
       "        vertical-align: top;\n",
       "    }\n",
       "</style>\n",
       "<table border=\"1\" class=\"dataframe\">\n",
       "  <thead>\n",
       "    <tr style=\"text-align: right;\">\n",
       "      <th></th>\n",
       "      <th>0</th>\n",
       "      <th>1</th>\n",
       "      <th>2</th>\n",
       "    </tr>\n",
       "  </thead>\n",
       "  <tbody>\n",
       "    <tr>\n",
       "      <th>0</th>\n",
       "      <td>181</td>\n",
       "      <td>80</td>\n",
       "      <td>44</td>\n",
       "    </tr>\n",
       "    <tr>\n",
       "      <th>1</th>\n",
       "      <td>177</td>\n",
       "      <td>70</td>\n",
       "      <td>43</td>\n",
       "    </tr>\n",
       "    <tr>\n",
       "      <th>2</th>\n",
       "      <td>160</td>\n",
       "      <td>60</td>\n",
       "      <td>38</td>\n",
       "    </tr>\n",
       "    <tr>\n",
       "      <th>3</th>\n",
       "      <td>154</td>\n",
       "      <td>54</td>\n",
       "      <td>37</td>\n",
       "    </tr>\n",
       "    <tr>\n",
       "      <th>4</th>\n",
       "      <td>166</td>\n",
       "      <td>65</td>\n",
       "      <td>40</td>\n",
       "    </tr>\n",
       "  </tbody>\n",
       "</table>\n",
       "</div>"
      ],
      "text/plain": [
       "     0   1   2\n",
       "0  181  80  44\n",
       "1  177  70  43\n",
       "2  160  60  38\n",
       "3  154  54  37\n",
       "4  166  65  40"
      ]
     },
     "metadata": {},
     "output_type": "display_data"
    }
   ],
   "source": [
    "import numpy as np\n",
    "import pandas as pd\n",
    "import matplotlib.pyplot as plt\n",
    "from IPython.display import display\n",
    "\n",
    "data = pd.DataFrame(X)\n",
    "data.plot.scatter(x=0,y=1)\n",
    "pd2 = data.head()\n",
    "pd1 = plt.show()\n",
    "#display(pd1)\n",
    "display(pd2)"
   ]
  },
  {
   "cell_type": "code",
   "execution_count": 16,
   "metadata": {},
   "outputs": [
    {
     "data": {
      "text/html": [
       "<div>\n",
       "<style>\n",
       "    .dataframe thead tr:only-child th {\n",
       "        text-align: right;\n",
       "    }\n",
       "\n",
       "    .dataframe thead th {\n",
       "        text-align: left;\n",
       "    }\n",
       "\n",
       "    .dataframe tbody tr th {\n",
       "        vertical-align: top;\n",
       "    }\n",
       "</style>\n",
       "<table border=\"1\" class=\"dataframe\">\n",
       "  <thead>\n",
       "    <tr style=\"text-align: right;\">\n",
       "      <th></th>\n",
       "      <th>0</th>\n",
       "      <th>1</th>\n",
       "      <th>2</th>\n",
       "    </tr>\n",
       "  </thead>\n",
       "  <tbody>\n",
       "    <tr>\n",
       "      <th>0</th>\n",
       "      <td>181</td>\n",
       "      <td>80</td>\n",
       "      <td>44</td>\n",
       "    </tr>\n",
       "    <tr>\n",
       "      <th>1</th>\n",
       "      <td>177</td>\n",
       "      <td>70</td>\n",
       "      <td>43</td>\n",
       "    </tr>\n",
       "    <tr>\n",
       "      <th>2</th>\n",
       "      <td>160</td>\n",
       "      <td>60</td>\n",
       "      <td>38</td>\n",
       "    </tr>\n",
       "    <tr>\n",
       "      <th>3</th>\n",
       "      <td>154</td>\n",
       "      <td>54</td>\n",
       "      <td>37</td>\n",
       "    </tr>\n",
       "    <tr>\n",
       "      <th>4</th>\n",
       "      <td>166</td>\n",
       "      <td>65</td>\n",
       "      <td>40</td>\n",
       "    </tr>\n",
       "  </tbody>\n",
       "</table>\n",
       "</div>"
      ],
      "text/plain": [
       "     0   1   2\n",
       "0  181  80  44\n",
       "1  177  70  43\n",
       "2  160  60  38\n",
       "3  154  54  37\n",
       "4  166  65  40"
      ]
     },
     "execution_count": 16,
     "metadata": {},
     "output_type": "execute_result"
    }
   ],
   "source": [
    "data.head()"
   ]
  },
  {
   "cell_type": "code",
   "execution_count": 21,
   "metadata": {
    "collapsed": true
   },
   "outputs": [],
   "source": [
    "data = pd.DataFrame(data)"
   ]
  },
  {
   "cell_type": "code",
   "execution_count": 22,
   "metadata": {},
   "outputs": [
    {
     "data": {
      "text/plain": [
       "RangeIndex(start=0, stop=11, step=1)"
      ]
     },
     "execution_count": 22,
     "metadata": {},
     "output_type": "execute_result"
    }
   ],
   "source": [
    "data.index"
   ]
  },
  {
   "cell_type": "code",
   "execution_count": 23,
   "metadata": {},
   "outputs": [
    {
     "data": {
      "text/html": [
       "<div>\n",
       "<style>\n",
       "    .dataframe thead tr:only-child th {\n",
       "        text-align: right;\n",
       "    }\n",
       "\n",
       "    .dataframe thead th {\n",
       "        text-align: left;\n",
       "    }\n",
       "\n",
       "    .dataframe tbody tr th {\n",
       "        vertical-align: top;\n",
       "    }\n",
       "</style>\n",
       "<table border=\"1\" class=\"dataframe\">\n",
       "  <thead>\n",
       "    <tr style=\"text-align: right;\">\n",
       "      <th></th>\n",
       "      <th>0</th>\n",
       "      <th>1</th>\n",
       "      <th>2</th>\n",
       "    </tr>\n",
       "  </thead>\n",
       "  <tbody>\n",
       "    <tr>\n",
       "      <th>count</th>\n",
       "      <td>11.000000</td>\n",
       "      <td>11.000000</td>\n",
       "      <td>11.000000</td>\n",
       "    </tr>\n",
       "    <tr>\n",
       "      <th>mean</th>\n",
       "      <td>171.909091</td>\n",
       "      <td>69.818182</td>\n",
       "      <td>40.909091</td>\n",
       "    </tr>\n",
       "    <tr>\n",
       "      <th>std</th>\n",
       "      <td>11.040422</td>\n",
       "      <td>11.796764</td>\n",
       "      <td>3.176619</td>\n",
       "    </tr>\n",
       "    <tr>\n",
       "      <th>min</th>\n",
       "      <td>154.000000</td>\n",
       "      <td>54.000000</td>\n",
       "      <td>37.000000</td>\n",
       "    </tr>\n",
       "    <tr>\n",
       "      <th>25%</th>\n",
       "      <td>163.000000</td>\n",
       "      <td>62.000000</td>\n",
       "      <td>38.500000</td>\n",
       "    </tr>\n",
       "    <tr>\n",
       "      <th>50%</th>\n",
       "      <td>175.000000</td>\n",
       "      <td>70.000000</td>\n",
       "      <td>40.000000</td>\n",
       "    </tr>\n",
       "    <tr>\n",
       "      <th>75%</th>\n",
       "      <td>179.000000</td>\n",
       "      <td>77.500000</td>\n",
       "      <td>43.000000</td>\n",
       "    </tr>\n",
       "    <tr>\n",
       "      <th>max</th>\n",
       "      <td>190.000000</td>\n",
       "      <td>90.000000</td>\n",
       "      <td>47.000000</td>\n",
       "    </tr>\n",
       "  </tbody>\n",
       "</table>\n",
       "</div>"
      ],
      "text/plain": [
       "                0          1          2\n",
       "count   11.000000  11.000000  11.000000\n",
       "mean   171.909091  69.818182  40.909091\n",
       "std     11.040422  11.796764   3.176619\n",
       "min    154.000000  54.000000  37.000000\n",
       "25%    163.000000  62.000000  38.500000\n",
       "50%    175.000000  70.000000  40.000000\n",
       "75%    179.000000  77.500000  43.000000\n",
       "max    190.000000  90.000000  47.000000"
      ]
     },
     "execution_count": 23,
     "metadata": {},
     "output_type": "execute_result"
    }
   ],
   "source": [
    "data.describe()"
   ]
  },
  {
   "cell_type": "code",
   "execution_count": 47,
   "metadata": {
    "collapsed": true
   },
   "outputs": [],
   "source": [
    "data = pd.DataFrame(X, columns = ['wzrost', 'waga', 'rozmiarButa'])"
   ]
  },
  {
   "cell_type": "code",
   "execution_count": 74,
   "metadata": {},
   "outputs": [
    {
     "data": {
      "text/html": [
       "<div>\n",
       "<style>\n",
       "    .dataframe thead tr:only-child th {\n",
       "        text-align: right;\n",
       "    }\n",
       "\n",
       "    .dataframe thead th {\n",
       "        text-align: left;\n",
       "    }\n",
       "\n",
       "    .dataframe tbody tr th {\n",
       "        vertical-align: top;\n",
       "    }\n",
       "</style>\n",
       "<table border=\"1\" class=\"dataframe\">\n",
       "  <thead>\n",
       "    <tr style=\"text-align: right;\">\n",
       "      <th></th>\n",
       "      <th>wzrost</th>\n",
       "      <th>waga</th>\n",
       "      <th>rozmiarButa</th>\n",
       "      <th>col</th>\n",
       "      <th>wzrostNorm</th>\n",
       "      <th>wzrostStand</th>\n",
       "    </tr>\n",
       "  </thead>\n",
       "  <tbody>\n",
       "    <tr>\n",
       "      <th>0</th>\n",
       "      <td>181</td>\n",
       "      <td>80</td>\n",
       "      <td>44</td>\n",
       "      <td>1</td>\n",
       "      <td>0.750000</td>\n",
       "      <td>0.823420</td>\n",
       "    </tr>\n",
       "    <tr>\n",
       "      <th>1</th>\n",
       "      <td>177</td>\n",
       "      <td>70</td>\n",
       "      <td>43</td>\n",
       "      <td>1</td>\n",
       "      <td>0.638889</td>\n",
       "      <td>0.461115</td>\n",
       "    </tr>\n",
       "    <tr>\n",
       "      <th>2</th>\n",
       "      <td>160</td>\n",
       "      <td>60</td>\n",
       "      <td>38</td>\n",
       "      <td>1</td>\n",
       "      <td>0.166667</td>\n",
       "      <td>-1.078681</td>\n",
       "    </tr>\n",
       "    <tr>\n",
       "      <th>3</th>\n",
       "      <td>154</td>\n",
       "      <td>54</td>\n",
       "      <td>37</td>\n",
       "      <td>1</td>\n",
       "      <td>0.000000</td>\n",
       "      <td>-1.622138</td>\n",
       "    </tr>\n",
       "    <tr>\n",
       "      <th>4</th>\n",
       "      <td>166</td>\n",
       "      <td>65</td>\n",
       "      <td>40</td>\n",
       "      <td>1</td>\n",
       "      <td>0.333333</td>\n",
       "      <td>-0.535223</td>\n",
       "    </tr>\n",
       "  </tbody>\n",
       "</table>\n",
       "</div>"
      ],
      "text/plain": [
       "   wzrost  waga  rozmiarButa  col  wzrostNorm  wzrostStand\n",
       "0     181    80           44    1    0.750000     0.823420\n",
       "1     177    70           43    1    0.638889     0.461115\n",
       "2     160    60           38    1    0.166667    -1.078681\n",
       "3     154    54           37    1    0.000000    -1.622138\n",
       "4     166    65           40    1    0.333333    -0.535223"
      ]
     },
     "execution_count": 74,
     "metadata": {},
     "output_type": "execute_result"
    }
   ],
   "source": [
    "data = data.assign(wzrostStand = lambda x: (data['wzrost']-data['wzrost'].mean())/data['wzrost'].std())\n",
    "data = data.assign(wzrostNorm = lambda x: (data['wzrost']-data['wzrost'].min())/(data['wzrost'].max()-data['wzrost'].min()))\n",
    "data.head()"
   ]
  },
  {
   "cell_type": "code",
   "execution_count": 115,
   "metadata": {},
   "outputs": [
    {
     "name": "stdout",
     "output_type": "stream",
     "text": [
      "           0\n",
      "0   0.863611\n",
      "1   0.483622\n",
      "2  -1.131330\n",
      "3  -1.701313\n",
      "4  -0.561347\n",
      "5   1.718585\n",
      "6   0.293628\n",
      "7   0.483622\n",
      "8  -1.226327\n",
      "9  -0.086361\n",
      "10  0.863611\n",
      "           0\n",
      "0   0.316862\n",
      "1   0.309860\n",
      "2   0.280099\n",
      "3   0.269596\n",
      "4   0.290603\n",
      "5   0.332618\n",
      "6   0.306359\n",
      "7   0.309860\n",
      "8   0.278349\n",
      "9   0.299356\n",
      "10  0.316862\n"
     ]
    },
    {
     "name": "stderr",
     "output_type": "stream",
     "text": [
      "C:\\Users\\PNaF\\Anaconda3\\lib\\site-packages\\sklearn\\utils\\validation.py:429: DataConversionWarning: Data with input dtype int64 was converted to float64 by StandardScaler.\n",
      "  warnings.warn(msg, _DataConversionWarning)\n",
      "C:\\Users\\PNaF\\Anaconda3\\lib\\site-packages\\sklearn\\utils\\validation.py:429: DataConversionWarning: Data with input dtype int64 was converted to float64 by the normalize function.\n",
      "  warnings.warn(msg, _DataConversionWarning)\n"
     ]
    },
    {
     "data": {
      "text/html": [
       "<div>\n",
       "<style>\n",
       "    .dataframe thead tr:only-child th {\n",
       "        text-align: right;\n",
       "    }\n",
       "\n",
       "    .dataframe thead th {\n",
       "        text-align: left;\n",
       "    }\n",
       "\n",
       "    .dataframe tbody tr th {\n",
       "        vertical-align: top;\n",
       "    }\n",
       "</style>\n",
       "<table border=\"1\" class=\"dataframe\">\n",
       "  <thead>\n",
       "    <tr style=\"text-align: right;\">\n",
       "      <th></th>\n",
       "      <th>wzrost</th>\n",
       "      <th>waga</th>\n",
       "      <th>rozmiarButa</th>\n",
       "      <th>col</th>\n",
       "      <th>wzrostNorm</th>\n",
       "      <th>wzrostStand</th>\n",
       "      <th>standarized</th>\n",
       "      <th>normalized</th>\n",
       "    </tr>\n",
       "  </thead>\n",
       "  <tbody>\n",
       "    <tr>\n",
       "      <th>0</th>\n",
       "      <td>181</td>\n",
       "      <td>80</td>\n",
       "      <td>44</td>\n",
       "      <td>1</td>\n",
       "      <td>0.750000</td>\n",
       "      <td>0.823420</td>\n",
       "      <td>0.863611</td>\n",
       "      <td>0.316862</td>\n",
       "    </tr>\n",
       "    <tr>\n",
       "      <th>1</th>\n",
       "      <td>177</td>\n",
       "      <td>70</td>\n",
       "      <td>43</td>\n",
       "      <td>1</td>\n",
       "      <td>0.638889</td>\n",
       "      <td>0.461115</td>\n",
       "      <td>0.483622</td>\n",
       "      <td>0.309860</td>\n",
       "    </tr>\n",
       "    <tr>\n",
       "      <th>2</th>\n",
       "      <td>160</td>\n",
       "      <td>60</td>\n",
       "      <td>38</td>\n",
       "      <td>1</td>\n",
       "      <td>0.166667</td>\n",
       "      <td>-1.078681</td>\n",
       "      <td>-1.131330</td>\n",
       "      <td>0.280099</td>\n",
       "    </tr>\n",
       "    <tr>\n",
       "      <th>3</th>\n",
       "      <td>154</td>\n",
       "      <td>54</td>\n",
       "      <td>37</td>\n",
       "      <td>1</td>\n",
       "      <td>0.000000</td>\n",
       "      <td>-1.622138</td>\n",
       "      <td>-1.701313</td>\n",
       "      <td>0.269596</td>\n",
       "    </tr>\n",
       "    <tr>\n",
       "      <th>4</th>\n",
       "      <td>166</td>\n",
       "      <td>65</td>\n",
       "      <td>40</td>\n",
       "      <td>1</td>\n",
       "      <td>0.333333</td>\n",
       "      <td>-0.535223</td>\n",
       "      <td>-0.561347</td>\n",
       "      <td>0.290603</td>\n",
       "    </tr>\n",
       "  </tbody>\n",
       "</table>\n",
       "</div>"
      ],
      "text/plain": [
       "   wzrost  waga  rozmiarButa  col  wzrostNorm  wzrostStand  standarized  \\\n",
       "0     181    80           44    1    0.750000     0.823420     0.863611   \n",
       "1     177    70           43    1    0.638889     0.461115     0.483622   \n",
       "2     160    60           38    1    0.166667    -1.078681    -1.131330   \n",
       "3     154    54           37    1    0.000000    -1.622138    -1.701313   \n",
       "4     166    65           40    1    0.333333    -0.535223    -0.561347   \n",
       "\n",
       "   normalized  \n",
       "0    0.316862  \n",
       "1    0.309860  \n",
       "2    0.280099  \n",
       "3    0.269596  \n",
       "4    0.290603  "
      ]
     },
     "execution_count": 115,
     "metadata": {},
     "output_type": "execute_result"
    }
   ],
   "source": [
    "from sklearn.preprocessing import StandardScaler\n",
    "from sklearn.preprocessing import Normalizer\n",
    "\n",
    "scalerStand = StandardScaler().fit(data['wzrost'].values.reshape(-1,1))\n",
    "scalerNorm = Normalizer().fit(data['wzrost'].values.reshape(1,-1))\n",
    "standarized_wzrost = pd.DataFrame(scalerStand.transform(data['wzrost'].values.reshape(-1,1)))\n",
    "normalized_wzrost = pd.DataFrame(scalerNorm.transform(data['wzrost'].values.reshape(1,-1)).T)\n",
    "print(standarized_wzrost)\n",
    "print(normalized_wzrost)\n",
    "data = data.assign(standarized = standarized_wzrost)\n",
    "data = data.assign(normalized = normalized_wzrost)\n",
    "data.head()"
   ]
  },
  {
   "cell_type": "code",
   "execution_count": 100,
   "metadata": {},
   "outputs": [
    {
     "name": "stdout",
     "output_type": "stream",
     "text": [
      "[[181]\n",
      " [177]\n",
      " [160]\n",
      " [154]\n",
      " [166]\n",
      " [190]\n",
      " [175]\n",
      " [177]\n",
      " [159]\n",
      " [171]\n",
      " [181]]\n",
      "[[181 177 160 154 166 190 175 177 159 171 181]]\n"
     ]
    }
   ],
   "source": [
    "#print(data['wzrost'].reshape(-1,1))\n",
    "#print(data['wzrost'].reshape(1,-1))\n",
    "print(data['wzrost'].values.reshape(-1,1))\n",
    "print(data['wzrost'].values.reshape(1,-1))"
   ]
  },
  {
   "cell_type": "code",
   "execution_count": 134,
   "metadata": {},
   "outputs": [
    {
     "name": "stdout",
     "output_type": "stream",
     "text": [
      "[[ 0.86361067  0.9052297   1.02051038]\n",
      " [ 0.48362198  0.01616482  0.69034526]\n",
      " [-1.13132998 -0.87290007 -0.96048036]\n",
      " [-1.70131302 -1.406339   -1.29064548]\n",
      " [-0.56134694 -0.42836763 -0.30015011]\n",
      " [ 1.71858523  1.79429459  2.01100575]\n",
      " [ 0.29362763 -0.51727412 -0.63031524]\n",
      " [ 0.48362198  0.01616482 -0.30015011]\n",
      " [-1.22632715 -1.31743251 -1.29064548]\n",
      " [-0.08636107  0.46069726  0.36018014]\n",
      " [ 0.86361067  1.34976215  0.69034526]]\n",
      "StandardScaler(copy=True, with_mean=True, with_std=True) [ 171.90909091   69.81818182   40.90909091] [ 10.52662896  11.24777297   3.0287875 ]\n",
      "[[ 0.86361067  0.9052297   1.02051038]\n",
      " [ 0.48362198  0.01616482  0.69034526]\n",
      " [-1.13132998 -0.87290007 -0.96048036]\n",
      " [-1.70131302 -1.406339   -1.29064548]\n",
      " [-0.56134694 -0.42836763 -0.30015011]\n",
      " [ 1.71858523  1.79429459  2.01100575]\n",
      " [ 0.29362763 -0.51727412 -0.63031524]\n",
      " [ 0.48362198  0.01616482 -0.30015011]\n",
      " [-1.22632715 -1.31743251 -1.29064548]\n",
      " [-0.08636107  0.46069726  0.36018014]\n",
      " [ 0.86361067  1.34976215  0.69034526]]\n",
      "MinMaxScaler(copy=True, feature_range=(0, 1))\n",
      "[[ 0.75        0.72222222  0.7       ]\n",
      " [ 0.63888889  0.44444444  0.6       ]\n",
      " [ 0.16666667  0.16666667  0.1       ]\n",
      " [ 0.          0.          0.        ]\n",
      " [ 0.33333333  0.30555556  0.3       ]\n",
      " [ 1.          1.          1.        ]\n",
      " [ 0.58333333  0.27777778  0.2       ]\n",
      " [ 0.63888889  0.44444444  0.3       ]\n",
      " [ 0.13888889  0.02777778  0.        ]\n",
      " [ 0.47222222  0.58333333  0.5       ]\n",
      " [ 0.75        0.86111111  0.6       ]]\n",
      "Normalizer(copy=True, norm='l1')\n",
      "[[ 0.59344262  0.26229508  0.1442623 ]\n",
      " [ 0.61034483  0.24137931  0.14827586]\n",
      " [ 0.62015504  0.23255814  0.14728682]\n",
      " [ 0.62857143  0.22040816  0.15102041]\n",
      " [ 0.61254613  0.2398524   0.14760148]\n",
      " [ 0.58103976  0.27522936  0.14373089]\n",
      " [ 0.6294964   0.23021583  0.14028777]\n",
      " [ 0.61672474  0.24390244  0.13937282]\n",
      " [ 0.63346614  0.21912351  0.14741036]\n",
      " [ 0.59375     0.26041667  0.14583333]\n",
      " [ 0.58576052  0.27508091  0.13915858]]\n"
     ]
    },
    {
     "name": "stderr",
     "output_type": "stream",
     "text": [
      "C:\\Users\\PNaF\\Anaconda3\\lib\\site-packages\\sklearn\\utils\\validation.py:429: DataConversionWarning: Data with input dtype int32 was converted to float64 by the normalize function.\n",
      "  warnings.warn(msg, _DataConversionWarning)\n"
     ]
    }
   ],
   "source": [
    "from sklearn import preprocessing\n",
    "\n",
    "XScale = preprocessing.scale(X)\n",
    "print(XScale)\n",
    "\n",
    "XscalerStand = preprocessing.StandardScaler().fit(X)\n",
    "print(XscalerStand, XscalerStand.mean_, XscalerStand.scale_)\n",
    "XStand = XscalerStand.transform(X)\n",
    "print(XStand)\n",
    "\n",
    "XscalerMinMax = preprocessing.MinMaxScaler().fit(X)\n",
    "print(XscalerMinMax)\n",
    "XMinMax = XscalerMinMax.transform(X)\n",
    "print(XMinMax)\n",
    "\n",
    "XscalerNorm = preprocessing.Normalizer(norm='l1').fit(X)\n",
    "print(XscalerNorm)\n",
    "XNorm = XscalerNorm.transform(X)\n",
    "print(XNorm)"
   ]
  },
  {
   "cell_type": "code",
   "execution_count": 159,
   "metadata": {},
   "outputs": [
    {
     "data": {
      "text/plain": [
       "[array([ 0.75      ,  0.63888889,  0.16666667,  0.        ,  0.33333333,\n",
       "         1.        ,  0.58333333,  0.63888889,  0.13888889,  0.47222222,\n",
       "         0.75      ])]"
      ]
     },
     "execution_count": 159,
     "metadata": {},
     "output_type": "execute_result"
    }
   ],
   "source": [
    "list(XMinMax[:11,:1].T)"
   ]
  },
  {
   "cell_type": "code",
   "execution_count": 140,
   "metadata": {},
   "outputs": [
    {
     "data": {
      "text/plain": [
       "array([ 0.16666667,  0.16666667,  0.1       ])"
      ]
     },
     "execution_count": 140,
     "metadata": {},
     "output_type": "execute_result"
    }
   ],
   "source": [
    "XMinMax[2]"
   ]
  },
  {
   "cell_type": "code",
   "execution_count": null,
   "metadata": {
    "collapsed": true
   },
   "outputs": [],
   "source": []
  }
 ],
 "metadata": {
  "kernelspec": {
   "display_name": "Python 3",
   "language": "python",
   "name": "python3"
  },
  "language_info": {
   "codemirror_mode": {
    "name": "ipython",
    "version": 3
   },
   "file_extension": ".py",
   "mimetype": "text/x-python",
   "name": "python",
   "nbconvert_exporter": "python",
   "pygments_lexer": "ipython3",
   "version": "3.5.4"
  }
 },
 "nbformat": 4,
 "nbformat_minor": 2
}
