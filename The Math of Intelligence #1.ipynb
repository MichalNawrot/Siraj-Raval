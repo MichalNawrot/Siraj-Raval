{
 "cells": [
  {
   "cell_type": "markdown",
   "metadata": {
    "collapsed": true
   },
   "source": [
    "# Kod prezentujacy dzialajaca regresje liniowa"
   ]
  },
  {
   "cell_type": "markdown",
   "metadata": {},
   "source": [
    "Ponizej znajduje sie kod napisany przez Siraj Raval dzialajacy na danych z data.csv"
   ]
  },
  {
   "cell_type": "code",
   "execution_count": 43,
   "metadata": {},
   "outputs": [
    {
     "name": "stdout",
     "output_type": "stream",
     "text": [
      "Starting gradient descent at b = 0, m = 0, error = 5565.107834483211\n",
      "Running...\n",
      "After 1000 iterations b = 0.08893651993741346, m = 1.4777440851894448, error = 112.61481011613473\n"
     ]
    }
   ],
   "source": [
    "#The optimal values of m and b can be actually calculated with way less effort than doing a linear regression. \n",
    "#this is just to demonstrate gradient descent\n",
    "\n",
    "#from __future__ import print_function\n",
    "from numpy import *\n",
    "\n",
    "# y = mx + b\n",
    "# m is slope, b is y-intercept\n",
    "def compute_error_for_line_given_points(b, m, points):\n",
    "    totalError = 0\n",
    "    for i in range(0, len(points)):\n",
    "        x = points[i, 0]\n",
    "        y = points[i, 1]\n",
    "        totalError += (y - (m * x + b)) ** 2\n",
    "    return totalError / float(len(points))\n",
    "\n",
    "def step_gradient(b_current, m_current, points, learningRate):\n",
    "    b_gradient = 0\n",
    "    m_gradient = 0\n",
    "    N = float(len(points))\n",
    "    for i in range(0, len(points)):\n",
    "        x = points[i, 0]\n",
    "        y = points[i, 1]\n",
    "        b_gradient += -(2/N) * (y - ((m_current * x) + b_current))\n",
    "        m_gradient += -(2/N) * x * (y - ((m_current * x) + b_current))\n",
    "    new_b = b_current - (learningRate * b_gradient)\n",
    "    new_m = m_current - (learningRate * m_gradient)\n",
    "    return [new_b, new_m]\n",
    "\n",
    "def gradient_descent_runner(points, starting_b, starting_m, learning_rate, num_iterations):\n",
    "    b = starting_b\n",
    "    m = starting_m\n",
    "    for i in range(num_iterations):\n",
    "        b, m = step_gradient(b, m, array(points), learning_rate)\n",
    "    return [b, m]\n",
    "\n",
    "def run():\n",
    "    points = genfromtxt(\"data.csv\", delimiter=\",\")\n",
    "    learning_rate = 0.0001\n",
    "    initial_b = 0 # initial y-intercept guess\n",
    "    initial_m = 0 # initial slope guess\n",
    "    num_iterations = 1000\n",
    "    print(\"Starting gradient descent at b = {0}, m = {1}, error = {2}\".format(initial_b, initial_m, compute_error_for_line_given_points(initial_b, initial_m, points)))\n",
    "    print(\"Running...\")\n",
    "    [b, m] = gradient_descent_runner(points, initial_b, initial_m, learning_rate, num_iterations)\n",
    "    print(\"After {0} iterations b = {1}, m = {2}, error = {3}\".format(num_iterations, b, m, compute_error_for_line_given_points(b, m, points)))\n",
    "\n",
    "if __name__ == '__main__':\n",
    "    run()"
   ]
  },
  {
   "cell_type": "markdown",
   "metadata": {},
   "source": [
    "Zabawa z rysowaniem wykresu punktowego danych z data.csv 'normalnie' i z zamienionymi osiami x, y"
   ]
  },
  {
   "cell_type": "code",
   "execution_count": 41,
   "metadata": {},
   "outputs": [
    {
     "data": {
      "image/png": "[encoded data removed]",
      "text/plain": [
       "<matplotlib.figure.Figure at 0xc06f710>"
      ]
     },
     "metadata": {},
     "output_type": "display_data"
    }
   ],
   "source": [
    "import numpy as np\n",
    "import pandas as pd\n",
    "import matplotlib.pyplot as plt\n",
    "import sklearn as skl\n",
    "\n",
    "data = pd.read_csv('data.csv', header=None)\n",
    "ax = data.plot.scatter(x=0,y=1, color='Red', label='x=x y=y')\n",
    "data.plot.scatter(x=1, y=0, color='DarkBlue', label='x=y y=x', ax=ax)\n",
    "plt.show()\n",
    "plt.close()"
   ]
  },
  {
   "cell_type": "code",
   "execution_count": 47,
   "metadata": {},
   "outputs": [
    {
     "name": "stdout",
     "output_type": "stream",
     "text": [
      "            0           1\n",
      "0   32.502345   31.707006\n",
      "1   53.426804   68.777596\n",
      "2   61.530358   62.562382\n",
      "3   47.475640   71.546632\n",
      "4   59.813208   87.230925\n",
      "5   55.142188   78.211518\n",
      "6   52.211797   79.641973\n",
      "7   39.299567   59.171489\n",
      "8   48.105042   75.331242\n",
      "9   52.550014   71.300880\n",
      "10  45.419730   55.165677\n",
      "11  54.351635   82.478847\n",
      "12  44.164049   62.008923\n",
      "13  58.168471   75.392870\n",
      "14  56.727208   81.436192\n",
      "15  48.955889   60.723602\n",
      "16  44.687196   82.892504\n",
      "17  60.297327   97.379897\n",
      "18  45.618644   48.847153\n",
      "19  38.816818   56.877213\n",
      "20  66.189817   83.878565\n",
      "21  65.416052  118.591217\n",
      "22  47.481209   57.251819\n",
      "23  41.575643   51.391744\n",
      "24  51.845187   75.380652\n",
      "25  59.370822   74.765564\n",
      "26  57.310003   95.455053\n",
      "27  63.615561   95.229366\n",
      "28  46.737619   79.052406\n",
      "29  50.556760   83.432071\n",
      "..        ...         ...\n",
      "70  31.588117   50.392670\n",
      "71  53.660932   63.642399\n",
      "72  46.682229   72.247251\n",
      "73  43.107820   57.812513\n",
      "74  70.346076  104.257102\n",
      "75  44.492856   86.642020\n",
      "76  57.504533   91.486778\n",
      "77  36.930077   55.231661\n",
      "78  55.805733   79.550437\n",
      "79  38.954769   44.847124\n",
      "80  56.901215   80.207523\n",
      "81  56.868901   83.142750\n",
      "82  34.333125   55.723489\n",
      "83  59.049741   77.634183\n",
      "84  57.788224   99.051415\n",
      "85  54.282329   79.120646\n",
      "86  51.088720   69.588898\n",
      "87  50.282836   69.510503\n",
      "88  44.211742   73.687564\n",
      "89  38.005488   61.366905\n",
      "90  32.940480   67.170656\n",
      "91  53.691640   85.668203\n",
      "92  68.765734  114.853871\n",
      "93  46.230966   90.123572\n",
      "94  68.319361   97.919821\n",
      "95  50.030174   81.536991\n",
      "96  49.239765   72.111832\n",
      "97  50.039576   85.232007\n",
      "98  48.149859   66.224958\n",
      "99  25.128485   53.454394\n",
      "\n",
      "[100 rows x 2 columns]\n"
     ]
    }
   ],
   "source": [
    "print(data)"
   ]
  },
  {
   "cell_type": "code",
   "execution_count": 45,
   "metadata": {},
   "outputs": [
    {
     "name": "stdout",
     "output_type": "stream",
     "text": [
      "Mama\n"
     ]
    }
   ],
   "source": [
    "print('Mama')"
   ]
  },
  {
   "cell_type": "code",
   "execution_count": 46,
   "metadata": {},
   "outputs": [
    {
     "name": "stdout",
     "output_type": "stream",
     "text": [
      "4\n"
     ]
    }
   ],
   "source": [
    "print(2+2)"
   ]
  },
  {
   "cell_type": "code",
   "execution_count": null,
   "metadata": {
    "collapsed": true
   },
   "outputs": [],
   "source": []
  }
 ],
 "metadata": {
  "kernelspec": {
   "display_name": "Python 3",
   "language": "python",
   "name": "python3"
  },
  "language_info": {
   "codemirror_mode": {
    "name": "ipython",
    "version": 3
   },
   "file_extension": ".py",
   "mimetype": "text/x-python",
   "name": "python",
   "nbconvert_exporter": "python",
   "pygments_lexer": "ipython3",
   "version": "3.6.1"
  }
 },
 "nbformat": 4,
 "nbformat_minor": 2
}
